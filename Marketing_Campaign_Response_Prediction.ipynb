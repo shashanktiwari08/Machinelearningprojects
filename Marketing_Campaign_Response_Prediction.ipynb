{
  "nbformat": 4,
  "nbformat_minor": 0,
  "metadata": {
    "colab": {
      "provenance": [],
      "authorship_tag": "ABX9TyNHS/2wwOTfJow5IyFgL2GP",
      "include_colab_link": true
    },
    "kernelspec": {
      "name": "python3",
      "display_name": "Python 3"
    },
    "language_info": {
      "name": "python"
    }
  },
  "cells": [
    {
      "cell_type": "markdown",
      "metadata": {
        "id": "view-in-github",
        "colab_type": "text"
      },
      "source": [
        "<a href=\"https://colab.research.google.com/github/shashanktiwari08/Machinelearningprojects/blob/main/Marketing_Campaign_Response_Prediction.ipynb\" target=\"_parent\"><img src=\"https://colab.research.google.com/assets/colab-badge.svg\" alt=\"Open In Colab\"/></a>"
      ]
    },
    {
      "cell_type": "code",
      "execution_count": null,
      "metadata": {
        "id": "xBPxlP8Usywh"
      },
      "outputs": [],
      "source": [
        "# Step 1: Install packages (if needed)\n",
        "# !pip install pandas numpy seaborn matplotlib scikit-learn\n",
        "\n",
        "# Step 2: Import libraries\n",
        "import pandas as pd\n",
        "import numpy as np\n",
        "import seaborn as sns\n",
        "import matplotlib.pyplot as plt\n",
        "from sklearn.model_selection import train_test_split\n",
        "from sklearn.linear_model import LogisticRegression\n",
        "from sklearn.metrics import accuracy_score, confusion_matrix, classification_report\n",
        "\n",
        "# Step 3: Sample Dataset (or load your own CSV)\n",
        "data = {\n",
        "    'Age': [25, 35, 45, 23, 36, 52, 28, 48, 33, 40],\n",
        "    'Income': [30000, 50000, 70000, 25000, 52000, 80000, 33000, 75000, 45000, 62000],\n",
        "    'PreviousPurchases': [1, 3, 5, 0, 2, 6, 1, 4, 3, 5],\n",
        "    'EmailClicks': [2, 4, 6, 1, 3, 7, 2, 5, 4, 6],\n",
        "    'Response': [0, 1, 1, 0, 1, 1, 0, 1, 1, 1]  # Target variable\n",
        "}\n",
        "\n",
        "df = pd.DataFrame(data)\n",
        "\n",
        "# Step 4: Explore the data\n",
        "print(df.head())\n",
        "print(\"\\nDataset Info:\\n\", df.describe())\n",
        "\n",
        "# Step 5: Visualizations\n",
        "sns.pairplot(df, hue='Response')\n",
        "plt.suptitle(\"Feature Distributions by Response\", y=1.02)\n",
        "plt.show()\n",
        "\n",
        "# Correlation heatmap\n",
        "plt.figure(figsize=(8, 6))\n",
        "sns.heatmap(df.corr(), annot=True, cmap='coolwarm')\n",
        "plt.title(\"Correlation Heatmap\")\n",
        "plt.show()\n",
        "\n",
        "# Response count\n",
        "sns.countplot(x='Response', data=df, palette='Set2')\n",
        "plt.title(\"Marketing Campaign Response Count\")\n",
        "plt.xticks([0, 1], ['No', 'Yes'])\n",
        "plt.show()\n",
        "\n",
        "# Step 6: Prepare data\n",
        "X = df[['Age', 'Income', 'PreviousPurchases', 'EmailClicks']]\n",
        "y = df['Response']\n",
        "\n",
        "# Step 7: Split into train/test\n",
        "X_train, X_test, y_train, y_test = train_test_split(X, y, test_size=0.3, random_state=42)\n",
        "\n",
        "# Step 8: Train Logistic Regression model\n",
        "model = LogisticRegression()\n",
        "model.fit(X_train, y_train)\n",
        "\n",
        "# Step 9: Predict and Evaluate\n",
        "y_pred = model.predict(X_test)\n",
        "\n",
        "print(\"✅ Accuracy:\", accuracy_score(y_test, y_pred))\n",
        "print(\"\\n📊 Confusion Matrix:\\n\", confusion_matrix(y_test, y_pred))\n",
        "print(\"\\n📄 Classification Report:\\n\", classification_report(y_test, y_pred))\n",
        "\n",
        "# Step 10: Confusion matrix plot\n",
        "cm = confusion_matrix(y_test, y_pred)\n",
        "sns.heatmap(cm, annot=True, fmt='d', cmap='Greens')\n",
        "plt.title(\"Confusion Matrix\")\n",
        "plt.xlabel(\"Predicted\")\n",
        "plt.ylabel(\"Actual\")\n",
        "plt.show()\n"
      ]
    }
  ]
}