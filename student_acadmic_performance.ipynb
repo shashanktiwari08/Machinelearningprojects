{
  "nbformat": 4,
  "nbformat_minor": 0,
  "metadata": {
    "colab": {
      "provenance": [],
      "authorship_tag": "ABX9TyNRodmqUDMWCsZ/L4PUvhgm",
      "include_colab_link": true
    },
    "kernelspec": {
      "name": "python3",
      "display_name": "Python 3"
    },
    "language_info": {
      "name": "python"
    }
  },
  "cells": [
    {
      "cell_type": "markdown",
      "metadata": {
        "id": "view-in-github",
        "colab_type": "text"
      },
      "source": [
        "<a href=\"https://colab.research.google.com/github/shashanktiwari08/Machinelearningprojects/blob/main/student_acadmic_performance.ipynb\" target=\"_parent\"><img src=\"https://colab.research.google.com/assets/colab-badge.svg\" alt=\"Open In Colab\"/></a>"
      ]
    },
    {
      "cell_type": "code",
      "execution_count": null,
      "metadata": {
        "colab": {
          "base_uri": "https://localhost:8080/"
        },
        "id": "-UXgP6_Wru4R",
        "outputId": "f760c92c-2e74-4ca4-ce41-0cd9bf57008c"
      },
      "outputs": [
        {
          "output_type": "stream",
          "name": "stdout",
          "text": [
            "   HoursStudied  Attendance  PreviousScores  AssignmentsCompleted  FinalScore\n",
            "0           2.0          70              60                     5          55\n",
            "1           3.0          75              65                     6          60\n",
            "2           4.0          80              70                     6          68\n",
            "3           5.0          85              75                     7          72\n",
            "4           6.0          90              80                     8          78\n",
            "\n",
            "Stats Summary:\n",
            "        HoursStudied  Attendance  PreviousScores  AssignmentsCompleted  \\\n",
            "count      10.00000   10.000000       10.000000             10.000000   \n",
            "mean        4.90000   84.600000       75.300000              7.300000   \n",
            "std         1.95505    8.921883       10.143964              1.636392   \n",
            "min         2.00000   70.000000       60.000000              5.000000   \n",
            "25%         3.25000   78.500000       68.500000              6.000000   \n",
            "50%         4.75000   84.500000       73.500000              7.000000   \n",
            "75%         6.37500   91.500000       83.750000              8.750000   \n",
            "max         8.00000   97.000000       90.000000             10.000000   \n",
            "\n",
            "       FinalScore  \n",
            "count   10.000000  \n",
            "mean    73.200000  \n",
            "std     12.308985  \n",
            "min     55.000000  \n",
            "25%     65.000000  \n",
            "50%     71.000000  \n",
            "75%     83.250000  \n",
            "max     92.000000  \n"
          ]
        }
      ],
      "source": [
        "# Step 1: Install packages if not already installed\n",
        "# !pip install pandas numpy matplotlib seaborn scikit-learn\n",
        "\n",
        "# Step 2: Import libraries\n",
        "import pandas as pd\n",
        "import numpy as np\n",
        "import seaborn as sns\n",
        "import matplotlib.pyplot as plt\n",
        "from sklearn.model_selection import train_test_split\n",
        "from sklearn.linear_model import LinearRegression\n",
        "from sklearn.metrics import mean_squared_error, r2_score\n",
        "\n",
        "# Step 3: Sample Dataset (Simulated)\n",
        "data = {\n",
        "    'HoursStudied': [2, 3, 4, 5, 6, 7, 8, 3, 4.5, 6.5],\n",
        "    'Attendance': [70, 75, 80, 85, 90, 95, 97, 78, 84, 92],\n",
        "    'PreviousScores': [60, 65, 70, 75, 80, 85, 90, 68, 72, 88],\n",
        "    'AssignmentsCompleted': [5, 6, 6, 7, 8, 9, 10, 6, 7, 9],\n",
        "    'FinalScore': [55, 60, 68, 72, 78, 85, 92, 64, 70, 88]\n",
        "}\n",
        "\n",
        "df = pd.DataFrame(data)\n",
        "\n",
        "# Step 4: Explore the data\n",
        "print(df.head())\n",
        "print(\"\\nStats Summary:\\n\", df.describe())\n",
        "\n",
        "# Step 5: Visualizations\n",
        "sns.pairplot(df)\n",
        "plt.suptitle(\"Feature Relationships\", y=1.02)\n",
        "plt.show()\n",
        "\n",
        "# Correlation heatmap\n",
        "plt.figure(figsize=(8, 6))\n",
        "sns.heatmap(df.corr(), annot=True, cmap=\"viridis\")\n",
        "plt.title(\"Correlation Heatmap\")\n",
        "plt.show()\n",
        "\n",
        "# Step 6: Feature Selection\n",
        "X = df[['HoursStudied', 'Attendance', 'PreviousScores', 'AssignmentsCompleted']]\n",
        "y = df['FinalScore']\n",
        "\n",
        "# Step 7: Train-test split\n",
        "X_train, X_test, y_train, y_test = train_test_split(X, y, test_size=0.2, random_state=42)\n",
        "\n",
        "# Step 8: Train the model\n",
        "model = LinearRegression()\n",
        "model.fit(X_train, y_train)\n",
        "\n",
        "# Step 9: Make Predictions\n",
        "y_pred = model.predict(X_test)\n",
        "\n",
        "# Step 10: Evaluate the model\n",
        "print(\"📉 Mean Squared Error:\", mean_squared_error(y_test, y_pred))\n",
        "print(\"📈 R² Score:\", r2_score(y_test, y_pred))\n",
        "\n",
        "# Step 11: Visualization: Predicted vs Actual\n",
        "plt.figure(figsize=(7, 5))\n",
        "plt.scatter(y_test, y_pred, color='blue')\n",
        "plt.plot([y.min(), y.max()], [y.min(), y.max()], 'r--')\n",
        "plt.xlabel(\"Actual Final Score\")\n",
        "plt.ylabel(\"Predicted Final Score\")\n",
        "plt.title(\"Actual vs Predicted Student Performance\")\n",
        "plt.grid(True)\n",
        "plt.show()\n"
      ]
    }
  ]
}