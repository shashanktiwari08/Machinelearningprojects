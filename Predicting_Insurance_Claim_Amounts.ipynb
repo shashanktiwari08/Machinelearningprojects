{
  "nbformat": 4,
  "nbformat_minor": 0,
  "metadata": {
    "colab": {
      "provenance": [],
      "authorship_tag": "ABX9TyODcSZubMjETtDgfsxVL7Hg",
      "include_colab_link": true
    },
    "kernelspec": {
      "name": "python3",
      "display_name": "Python 3"
    },
    "language_info": {
      "name": "python"
    }
  },
  "cells": [
    {
      "cell_type": "markdown",
      "metadata": {
        "id": "view-in-github",
        "colab_type": "text"
      },
      "source": [
        "<a href=\"https://colab.research.google.com/github/shashanktiwari08/Machinelearningprojects/blob/main/Predicting_Insurance_Claim_Amounts.ipynb\" target=\"_parent\"><img src=\"https://colab.research.google.com/assets/colab-badge.svg\" alt=\"Open In Colab\"/></a>"
      ]
    },
    {
      "cell_type": "code",
      "execution_count": null,
      "metadata": {
        "id": "SQ4nrfXItZ-U"
      },
      "outputs": [],
      "source": [
        "# Step 1: Install Required Libraries\n",
        "!pip install pandas scikit-learn matplotlib seaborn --quiet\n",
        "\n",
        "# Step 2: Import Libraries\n",
        "import pandas as pd\n",
        "import numpy as np\n",
        "import matplotlib.pyplot as plt\n",
        "import seaborn as sns\n",
        "from sklearn.model_selection import train_test_split\n",
        "from sklearn.preprocessing import StandardScaler\n",
        "from sklearn.ensemble import RandomForestRegressor\n",
        "from sklearn.metrics import mean_absolute_error, mean_squared_error, r2_score\n",
        "\n",
        "# Step 3: Load Dataset\n",
        "# Upload your dataset or use an example dataset\n",
        "# Example: synthetic data\n",
        "from sklearn.datasets import make_regression\n",
        "X, y = make_regression(n_samples=1000, n_features=5, noise=20, random_state=42)\n",
        "columns = ['age', 'vehicle_age', 'num_previous_claims', 'annual_income', 'credit_score']\n",
        "df = pd.DataFrame(X, columns=columns)\n",
        "df['claim_amount'] = y\n",
        "\n",
        "# Step 4: EDA (Quick)\n",
        "sns.pairplot(df)\n",
        "plt.show()\n",
        "\n",
        "# Step 5: Prepare Data\n",
        "X = df.drop('claim_amount', axis=1)\n",
        "y = df['claim_amount']\n",
        "\n",
        "# Train-Test Split\n",
        "X_train, X_test, y_train, y_test = train_test_split(X, y, test_size=0.2, random_state=42)\n",
        "\n",
        "# Standardize Features\n",
        "scaler = StandardScaler()\n",
        "X_train_scaled = scaler.fit_transform(X_train)\n",
        "X_test_scaled = scaler.transform(X_test)\n",
        "\n",
        "# Step 6: Train Model\n",
        "model = RandomForestRegressor(n_estimators=100, random_state=42)\n",
        "model.fit(X_train_scaled, y_train)\n",
        "\n",
        "# Step 7: Predict & Evaluate\n",
        "y_pred = model.predict(X_test_scaled)\n",
        "\n",
        "print(\"Mean Absolute Error:\", mean_absolute_error(y_test, y_pred))\n",
        "print(\"Mean Squared Error:\", mean_squared_error(y_test, y_pred))\n",
        "print(\"Root Mean Squared Error:\", np.sqrt(mean_squared_error(y_test, y_pred)))\n",
        "print(\"R2 Score:\", r2_score(y_test, y_pred))\n",
        "\n",
        "# Step 8: Feature Importance\n",
        "importances = model.feature_importances_\n",
        "plt.barh(columns, importances)\n",
        "plt.xlabel(\"Feature Importance\")\n",
        "plt.title(\"Random Forest Feature Importances\")\n",
        "plt.show()\n"
      ]
    }
  ]
}